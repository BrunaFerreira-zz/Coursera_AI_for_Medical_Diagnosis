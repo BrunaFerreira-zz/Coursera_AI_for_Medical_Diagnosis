{
  "nbformat": 4,
  "nbformat_minor": 0,
  "metadata": {
    "colab": {
      "name": "Lab3_Patient Overlap and Data Leakage.ipynb",
      "provenance": [],
      "mount_file_id": "17qUuCqFDUDBNUcvqJ--fBuOc2SG5uTWa",
      "authorship_tag": "ABX9TyPZG5QWHcPRXkt+adLbLpuy",
      "include_colab_link": true
    },
    "kernelspec": {
      "name": "python3",
      "display_name": "Python 3"
    }
  },
  "cells": [
    {
      "cell_type": "markdown",
      "metadata": {
        "id": "view-in-github",
        "colab_type": "text"
      },
      "source": [
        "<a href=\"https://colab.research.google.com/github/BrunaFerreira/Coursera_AI_for_Medical_Diagnosis/blob/master/Lab3_Patient_Overlap_and_Data_Leakage.ipynb\" target=\"_parent\"><img src=\"https://colab.research.google.com/assets/colab-badge.svg\" alt=\"Open In Colab\"/></a>"
      ]
    },
    {
      "cell_type": "code",
      "metadata": {
        "id": "BBCvgFDCm2Yn"
      },
      "source": [
        "# Aluna : Bruna Ferreira"
      ],
      "execution_count": 1,
      "outputs": []
    },
    {
      "cell_type": "markdown",
      "metadata": {
        "id": "uEpHHVo9LPXy"
      },
      "source": [
        "# Densenet\n",
        "* AI for Medicine Course 1 Week 1 lecture exercises\n",
        "* AI4M_C1_W1_lecture_ex_04\n"
      ]
    },
    {
      "cell_type": "markdown",
      "metadata": {
        "id": "979hdHdY2zOv"
      },
      "source": [
        "# Sobreposição do paciente (Overlap) e vazamento de dados (Data Leakage)\n",
        "\n",
        "A sobreposição de pacientes em dados médicos é parte de um problema mais geral no aprendizado de máquina chamado <b><i> Data Leakage </i> - vazamento de dados </b>. Para identificar a sobreposição do paciente, você pode verificar se o ID de um paciente aparece tanto no conjunto de treinamento quanto no conjunto de teste, assim como no conjunto de validação. "
      ]
    },
    {
      "cell_type": "code",
      "metadata": {
        "id": "Iw4fZ2gdcEcM"
      },
      "source": [
        "# Import necessary packages\n",
        "import pandas as pd\n",
        "import numpy as np\n",
        "import matplotlib.pyplot as plt\n",
        "%matplotlib inline\n",
        "import os\n",
        "import seaborn as sns\n",
        "sns.set()"
      ],
      "execution_count": 2,
      "outputs": []
    },
    {
      "cell_type": "markdown",
      "metadata": {
        "id": "_sM-lqEedMYV"
      },
      "source": [
        "### Leitura dos dados"
      ]
    },
    {
      "cell_type": "code",
      "metadata": {
        "colab": {
          "base_uri": "https://localhost:8080/",
          "height": 232
        },
        "id": "N_LUv1AnkJI6",
        "outputId": "ea53ba46-632b-4350-c2c9-72a1a0c4623c"
      },
      "source": [
        "# Leitura do arquivo csv contendo dados de treinamento\n",
        "train_df = pd.read_csv(\"/content/drive/MyDrive/0_Cursos/1. Coursera/AI Medicine /Code/data/images/nih/train-small.csv\")\n",
        "# Mostrando 5 primeiras linhas\n",
        "print(f'Há {train_df.shape[0]} linhas e  {train_df.shape[1]} colunas no conjunto de treinamento')\n",
        "train_df.head()"
      ],
      "execution_count": 3,
      "outputs": [
        {
          "output_type": "stream",
          "text": [
            "Há 1000 linhas e  16 colunas no conjunto de treinamento\n"
          ],
          "name": "stdout"
        },
        {
          "output_type": "execute_result",
          "data": {
            "text/html": [
              "<div>\n",
              "<style scoped>\n",
              "    .dataframe tbody tr th:only-of-type {\n",
              "        vertical-align: middle;\n",
              "    }\n",
              "\n",
              "    .dataframe tbody tr th {\n",
              "        vertical-align: top;\n",
              "    }\n",
              "\n",
              "    .dataframe thead th {\n",
              "        text-align: right;\n",
              "    }\n",
              "</style>\n",
              "<table border=\"1\" class=\"dataframe\">\n",
              "  <thead>\n",
              "    <tr style=\"text-align: right;\">\n",
              "      <th></th>\n",
              "      <th>Image</th>\n",
              "      <th>Atelectasis</th>\n",
              "      <th>Cardiomegaly</th>\n",
              "      <th>Consolidation</th>\n",
              "      <th>Edema</th>\n",
              "      <th>Effusion</th>\n",
              "      <th>Emphysema</th>\n",
              "      <th>Fibrosis</th>\n",
              "      <th>Hernia</th>\n",
              "      <th>Infiltration</th>\n",
              "      <th>Mass</th>\n",
              "      <th>Nodule</th>\n",
              "      <th>PatientId</th>\n",
              "      <th>Pleural_Thickening</th>\n",
              "      <th>Pneumonia</th>\n",
              "      <th>Pneumothorax</th>\n",
              "    </tr>\n",
              "  </thead>\n",
              "  <tbody>\n",
              "    <tr>\n",
              "      <th>0</th>\n",
              "      <td>00008270_015.png</td>\n",
              "      <td>0</td>\n",
              "      <td>0</td>\n",
              "      <td>0</td>\n",
              "      <td>0</td>\n",
              "      <td>0</td>\n",
              "      <td>0</td>\n",
              "      <td>0</td>\n",
              "      <td>0</td>\n",
              "      <td>0</td>\n",
              "      <td>0</td>\n",
              "      <td>0</td>\n",
              "      <td>8270</td>\n",
              "      <td>0</td>\n",
              "      <td>0</td>\n",
              "      <td>0</td>\n",
              "    </tr>\n",
              "    <tr>\n",
              "      <th>1</th>\n",
              "      <td>00029855_001.png</td>\n",
              "      <td>1</td>\n",
              "      <td>0</td>\n",
              "      <td>0</td>\n",
              "      <td>0</td>\n",
              "      <td>1</td>\n",
              "      <td>0</td>\n",
              "      <td>0</td>\n",
              "      <td>0</td>\n",
              "      <td>1</td>\n",
              "      <td>0</td>\n",
              "      <td>0</td>\n",
              "      <td>29855</td>\n",
              "      <td>0</td>\n",
              "      <td>0</td>\n",
              "      <td>0</td>\n",
              "    </tr>\n",
              "    <tr>\n",
              "      <th>2</th>\n",
              "      <td>00001297_000.png</td>\n",
              "      <td>0</td>\n",
              "      <td>0</td>\n",
              "      <td>0</td>\n",
              "      <td>0</td>\n",
              "      <td>0</td>\n",
              "      <td>0</td>\n",
              "      <td>0</td>\n",
              "      <td>0</td>\n",
              "      <td>0</td>\n",
              "      <td>0</td>\n",
              "      <td>0</td>\n",
              "      <td>1297</td>\n",
              "      <td>1</td>\n",
              "      <td>0</td>\n",
              "      <td>0</td>\n",
              "    </tr>\n",
              "    <tr>\n",
              "      <th>3</th>\n",
              "      <td>00012359_002.png</td>\n",
              "      <td>0</td>\n",
              "      <td>0</td>\n",
              "      <td>0</td>\n",
              "      <td>0</td>\n",
              "      <td>0</td>\n",
              "      <td>0</td>\n",
              "      <td>0</td>\n",
              "      <td>0</td>\n",
              "      <td>0</td>\n",
              "      <td>0</td>\n",
              "      <td>0</td>\n",
              "      <td>12359</td>\n",
              "      <td>0</td>\n",
              "      <td>0</td>\n",
              "      <td>0</td>\n",
              "    </tr>\n",
              "    <tr>\n",
              "      <th>4</th>\n",
              "      <td>00017951_001.png</td>\n",
              "      <td>0</td>\n",
              "      <td>0</td>\n",
              "      <td>0</td>\n",
              "      <td>0</td>\n",
              "      <td>0</td>\n",
              "      <td>0</td>\n",
              "      <td>0</td>\n",
              "      <td>0</td>\n",
              "      <td>1</td>\n",
              "      <td>0</td>\n",
              "      <td>0</td>\n",
              "      <td>17951</td>\n",
              "      <td>0</td>\n",
              "      <td>0</td>\n",
              "      <td>0</td>\n",
              "    </tr>\n",
              "  </tbody>\n",
              "</table>\n",
              "</div>"
            ],
            "text/plain": [
              "              Image  Atelectasis  ...  Pneumonia  Pneumothorax\n",
              "0  00008270_015.png            0  ...          0             0\n",
              "1  00029855_001.png            1  ...          0             0\n",
              "2  00001297_000.png            0  ...          0             0\n",
              "3  00012359_002.png            0  ...          0             0\n",
              "4  00017951_001.png            0  ...          0             0\n",
              "\n",
              "[5 rows x 16 columns]"
            ]
          },
          "metadata": {
            "tags": []
          },
          "execution_count": 3
        }
      ]
    },
    {
      "cell_type": "code",
      "metadata": {
        "colab": {
          "base_uri": "https://localhost:8080/",
          "height": 232
        },
        "id": "nHIrWG11k4vz",
        "outputId": "d2547f84-2c71-48b2-996d-0327ee5b7614"
      },
      "source": [
        "# Leitura do arquivo csv contendo dados de validação\n",
        "valid_df = pd.read_csv(\"/content/drive/MyDrive/0_Cursos/1. Coursera/AI Medicine /Code/data/images/nih/valid-small.csv\")\n",
        "# Mostrando 5 primeiras linhas\n",
        "print(f'Há {valid_df.shape[0]} linhas e {valid_df.shape[1]} colunas no conjunto de validação')\n",
        "valid_df.head()"
      ],
      "execution_count": 4,
      "outputs": [
        {
          "output_type": "stream",
          "text": [
            "Há 200 linhas e 16 colunas no conjunto de validação\n"
          ],
          "name": "stdout"
        },
        {
          "output_type": "execute_result",
          "data": {
            "text/html": [
              "<div>\n",
              "<style scoped>\n",
              "    .dataframe tbody tr th:only-of-type {\n",
              "        vertical-align: middle;\n",
              "    }\n",
              "\n",
              "    .dataframe tbody tr th {\n",
              "        vertical-align: top;\n",
              "    }\n",
              "\n",
              "    .dataframe thead th {\n",
              "        text-align: right;\n",
              "    }\n",
              "</style>\n",
              "<table border=\"1\" class=\"dataframe\">\n",
              "  <thead>\n",
              "    <tr style=\"text-align: right;\">\n",
              "      <th></th>\n",
              "      <th>Image</th>\n",
              "      <th>Atelectasis</th>\n",
              "      <th>Cardiomegaly</th>\n",
              "      <th>Consolidation</th>\n",
              "      <th>Edema</th>\n",
              "      <th>Effusion</th>\n",
              "      <th>Emphysema</th>\n",
              "      <th>Fibrosis</th>\n",
              "      <th>Hernia</th>\n",
              "      <th>Infiltration</th>\n",
              "      <th>Mass</th>\n",
              "      <th>Nodule</th>\n",
              "      <th>PatientId</th>\n",
              "      <th>Pleural_Thickening</th>\n",
              "      <th>Pneumonia</th>\n",
              "      <th>Pneumothorax</th>\n",
              "    </tr>\n",
              "  </thead>\n",
              "  <tbody>\n",
              "    <tr>\n",
              "      <th>0</th>\n",
              "      <td>00008270_015.png</td>\n",
              "      <td>0</td>\n",
              "      <td>0</td>\n",
              "      <td>0</td>\n",
              "      <td>0</td>\n",
              "      <td>0</td>\n",
              "      <td>0</td>\n",
              "      <td>0</td>\n",
              "      <td>0</td>\n",
              "      <td>0</td>\n",
              "      <td>0</td>\n",
              "      <td>0</td>\n",
              "      <td>8270</td>\n",
              "      <td>0</td>\n",
              "      <td>0</td>\n",
              "      <td>0</td>\n",
              "    </tr>\n",
              "    <tr>\n",
              "      <th>1</th>\n",
              "      <td>00029855_001.png</td>\n",
              "      <td>1</td>\n",
              "      <td>0</td>\n",
              "      <td>0</td>\n",
              "      <td>0</td>\n",
              "      <td>1</td>\n",
              "      <td>0</td>\n",
              "      <td>0</td>\n",
              "      <td>0</td>\n",
              "      <td>1</td>\n",
              "      <td>0</td>\n",
              "      <td>0</td>\n",
              "      <td>29855</td>\n",
              "      <td>0</td>\n",
              "      <td>0</td>\n",
              "      <td>0</td>\n",
              "    </tr>\n",
              "    <tr>\n",
              "      <th>2</th>\n",
              "      <td>00001297_000.png</td>\n",
              "      <td>0</td>\n",
              "      <td>0</td>\n",
              "      <td>0</td>\n",
              "      <td>0</td>\n",
              "      <td>0</td>\n",
              "      <td>0</td>\n",
              "      <td>0</td>\n",
              "      <td>0</td>\n",
              "      <td>0</td>\n",
              "      <td>0</td>\n",
              "      <td>0</td>\n",
              "      <td>1297</td>\n",
              "      <td>1</td>\n",
              "      <td>0</td>\n",
              "      <td>0</td>\n",
              "    </tr>\n",
              "    <tr>\n",
              "      <th>3</th>\n",
              "      <td>00012359_002.png</td>\n",
              "      <td>0</td>\n",
              "      <td>0</td>\n",
              "      <td>0</td>\n",
              "      <td>0</td>\n",
              "      <td>0</td>\n",
              "      <td>0</td>\n",
              "      <td>0</td>\n",
              "      <td>0</td>\n",
              "      <td>0</td>\n",
              "      <td>0</td>\n",
              "      <td>0</td>\n",
              "      <td>12359</td>\n",
              "      <td>0</td>\n",
              "      <td>0</td>\n",
              "      <td>0</td>\n",
              "    </tr>\n",
              "    <tr>\n",
              "      <th>4</th>\n",
              "      <td>00017951_001.png</td>\n",
              "      <td>0</td>\n",
              "      <td>0</td>\n",
              "      <td>0</td>\n",
              "      <td>0</td>\n",
              "      <td>0</td>\n",
              "      <td>0</td>\n",
              "      <td>0</td>\n",
              "      <td>0</td>\n",
              "      <td>1</td>\n",
              "      <td>0</td>\n",
              "      <td>0</td>\n",
              "      <td>17951</td>\n",
              "      <td>0</td>\n",
              "      <td>0</td>\n",
              "      <td>0</td>\n",
              "    </tr>\n",
              "  </tbody>\n",
              "</table>\n",
              "</div>"
            ],
            "text/plain": [
              "              Image  Atelectasis  ...  Pneumonia  Pneumothorax\n",
              "0  00008270_015.png            0  ...          0             0\n",
              "1  00029855_001.png            1  ...          0             0\n",
              "2  00001297_000.png            0  ...          0             0\n",
              "3  00012359_002.png            0  ...          0             0\n",
              "4  00017951_001.png            0  ...          0             0\n",
              "\n",
              "[5 rows x 16 columns]"
            ]
          },
          "metadata": {
            "tags": []
          },
          "execution_count": 4
        }
      ]
    },
    {
      "cell_type": "markdown",
      "metadata": {
        "id": "qnIef5zolsYt"
      },
      "source": [
        "### Comparando as colunas PatientId nos conjuntos de treinamento e validação\n",
        "\n",
        "1. Extraia as IDs dos pacientes dos conjuntos de treinamento e validação\n",
        "2. Converta essas matrizes de números em tipos de dados `set ()` para facilitar a comparação\n",
        "3. Identifique a sobreposição do paciente na interseção dos dois conjuntos."
      ]
    },
    {
      "cell_type": "code",
      "metadata": {
        "id": "XrAWs21Ok41T"
      },
      "source": [
        "# IDs dos pacientes nos dados de treinamento\n",
        "ids_train = train_df.PatientId.values\n",
        "# IDs dos pacientes nos dados de validação\n",
        "ids_valid = valid_df.PatientId.values"
      ],
      "execution_count": 5,
      "outputs": []
    },
    {
      "cell_type": "code",
      "metadata": {
        "colab": {
          "base_uri": "https://localhost:8080/"
        },
        "id": "8BOCWNHGk46S",
        "outputId": "be543021-c172-4c9c-fb43-eb5025117058"
      },
      "source": [
        "ids_train_set = set(ids_train)\n",
        "print(f'Há {len(ids_train_set)} IDs de pacientes únicos no conjunto de treinamento.')\n",
        "\n",
        "ids_valid_set = set(ids_valid)\n",
        "print(f'Há {len(ids_valid_set)} IDs de pacientes únicos no conjunto de validação')"
      ],
      "execution_count": 6,
      "outputs": [
        {
          "output_type": "stream",
          "text": [
            "Há 928 IDs de pacientes únicos no conjunto de treinamento.\n",
            "Há 199 IDs de pacientes únicos no conjunto de validação\n"
          ],
          "name": "stdout"
        }
      ]
    },
    {
      "cell_type": "code",
      "metadata": {
        "colab": {
          "base_uri": "https://localhost:8080/"
        },
        "id": "aFQI_F8lk4-r",
        "outputId": "9539fc0e-a17d-428e-97ae-5d4cc3521316"
      },
      "source": [
        "# identificando sobreposição de pacientes procurando interseção nos conjuntos\n",
        "patient_overlap = list(ids_train_set.intersection(ids_valid_set))\n",
        "n_overlap = len(patient_overlap)\n",
        "print(f'Há {n_overlap} IDs de pacientes nos conjuntos de treinamento e validação')\n",
        "print('')\n",
        "print(f'Pacientes que estão no conjunto de treinamento e validação:')\n",
        "print(f'{patient_overlap}')"
      ],
      "execution_count": 7,
      "outputs": [
        {
          "output_type": "stream",
          "text": [
            "Há 197 IDs de pacientes nos conjuntos de treinamento e validação\n",
            "\n",
            "Pacientes que estão no conjunto de treinamento e validação:\n",
            "[17920, 15360, 17417, 28682, 16397, 27665, 25628, 22559, 22047, 17951, 17443, 8741, 8230, 22572, 25645, 28208, 11315, 10294, 2614, 8760, 15929, 10808, 26685, 17470, 8767, 19014, 12359, 26185, 1610, 17997, 8270, 27725, 13904, 589, 18000, 20052, 12379, 25695, 13408, 27235, 4195, 11366, 6761, 22135, 26232, 121, 5241, 27260, 10877, 5759, 16007, 10888, 1168, 2705, 658, 25746, 9365, 11420, 8348, 16030, 29855, 16034, 12966, 29865, 28844, 3759, 9911, 14520, 9912, 26810, 1212, 12487, 26825, 1738, 21195, 28876, 30415, 1232, 720, 26835, 25813, 16604, 20188, 25315, 17126, 9447, 15078, 18669, 17135, 20213, 21750, 4344, 4858, 27900, 25858, 4360, 2312, 14603, 14604, 12045, 23309, 6926, 20240, 1297, 5904, 23825, 5905, 29454, 13592, 6426, 17691, 14107, 3868, 26399, 19233, 5410, 10531, 17702, 1831, 5418, 14125, 17714, 10035, 10548, 3382, 13111, 1849, 11579, 10557, 27455, 11584, 3393, 8515, 17731, 12615, 2890, 16719, 2898, 22870, 10582, 30041, 17753, 29023, 12640, 8033, 5474, 7523, 26469, 25971, 14197, 29047, 375, 26489, 6010, 30079, 21376, 26495, 8068, 28550, 13710, 14223, 13712, 8594, 1430, 6039, 918, 10651, 28574, 30629, 14758, 4523, 18860, 6575, 4533, 18360, 443, 3005, 21441, 1986, 8130, 21449, 3534, 26576, 12753, 2000, 21457, 23508, 9185, 27618, 9701, 6634, 27631, 21489, 29172, 7670, 20471, 4090]\n"
          ],
          "name": "stdout"
        }
      ]
    },
    {
      "cell_type": "markdown",
      "metadata": {
        "id": "uwEgg3Qvkgcb"
      },
      "source": [
        "### Identificar linhas (índices) de pacientes sobrepostos e removê-los do conjunto de treino ou do conjunto de validação\n",
        "\n",
        "\n",
        "1. Crie listas dos números sobrepostos nos conjuntos de treinamento e validação.\n",
        "2. Retire os registros de pacientes sobrepostos do conjunto de validação (também pode optar por retirar do conjunto de treinamento)"
      ]
    },
    {
      "cell_type": "code",
      "metadata": {
        "colab": {
          "base_uri": "https://localhost:8080/"
        },
        "id": "MzZnYKlcl__3",
        "outputId": "33f3bc17-9dfb-4794-e947-bbf10c4992ae"
      },
      "source": [
        "train_overlap_idxs = []\n",
        "valid_overlap_idxs = []\n",
        "for idx in range(n_overlap):\n",
        "    train_overlap_idxs.extend(train_df.index[train_df['PatientId'] == patient_overlap[idx]].tolist())\n",
        "    valid_overlap_idxs.extend(valid_df.index[valid_df['PatientId'] == patient_overlap[idx]].tolist())\n",
        "    \n",
        "print(f'Estes são os indices de pacientes sobrepostos no conjunto de treinamento: ')\n",
        "print(f'{train_overlap_idxs}')\n",
        "print(f'Estes são os indices de pacientes sobrepostos no conjunto de validação')\n",
        "print(f'{valid_overlap_idxs}')"
      ],
      "execution_count": 8,
      "outputs": [
        {
          "output_type": "stream",
          "text": [
            "Estes são os indices de pacientes sobrepostos no conjunto de treinamento: \n",
            "[74, 112, 14, 557, 142, 187, 39, 91, 511, 598, 145, 164, 4, 176, 152, 50, 36, 193, 10, 24, 46, 604, 72, 51, 11, 95, 156, 49, 67, 635, 82, 3, 75, 124, 45, 0, 81, 63, 85, 134, 61, 163, 195, 177, 858, 7, 994, 131, 62, 171, 130, 13, 518, 150, 84, 143, 765, 21, 38, 80, 98, 148, 179, 109, 139, 87, 126, 170, 22, 1, 106, 26, 58, 190, 767, 149, 12, 157, 159, 181, 405, 100, 71, 107, 460, 894, 48, 97, 117, 146, 5, 122, 111, 128, 33, 65, 90, 44, 41, 115, 184, 6, 197, 296, 440, 789, 840, 985, 69, 123, 129, 962, 42, 160, 99, 191, 77, 101, 15, 27, 30, 110, 29, 2, 56, 102, 105, 196, 55, 57, 53, 104, 154, 138, 151, 17, 141, 878, 43, 136, 147, 64, 137, 92, 93, 178, 60, 207, 311, 674, 59, 28, 113, 68, 501, 9, 167, 18, 103, 34, 169, 32, 175, 78, 132, 168, 172, 108, 140, 189, 161, 114, 500, 125, 119, 8, 40, 54, 66, 89, 96, 31, 180, 37, 174, 16, 116, 183, 173, 94, 52, 249, 121, 182, 19, 79, 667, 165, 396, 88, 837, 118, 918, 155, 153, 185, 158, 70, 20, 73, 144, 194, 76, 35, 23, 83, 127, 47, 162, 346, 186, 120, 166, 135, 86, 133, 192, 880, 25, 188]\n",
            "Estes são os indices de pacientes sobrepostos no conjunto de validação\n",
            "[74, 112, 14, 142, 187, 39, 91, 145, 164, 4, 176, 152, 50, 36, 193, 10, 24, 46, 72, 51, 11, 95, 156, 49, 67, 82, 3, 75, 124, 45, 0, 81, 63, 85, 134, 61, 163, 195, 177, 7, 131, 62, 171, 130, 13, 150, 84, 143, 21, 38, 80, 98, 148, 179, 109, 139, 87, 126, 170, 22, 1, 106, 26, 58, 190, 149, 12, 157, 159, 181, 100, 71, 107, 48, 97, 117, 146, 5, 122, 111, 128, 33, 65, 90, 44, 41, 115, 184, 6, 197, 69, 123, 129, 42, 160, 99, 191, 77, 101, 15, 27, 30, 110, 29, 2, 56, 102, 105, 196, 55, 57, 53, 104, 154, 138, 151, 17, 141, 43, 136, 147, 64, 137, 92, 93, 178, 60, 59, 28, 113, 68, 9, 167, 18, 103, 34, 169, 32, 175, 78, 132, 168, 172, 108, 140, 189, 161, 114, 125, 119, 8, 40, 54, 66, 89, 96, 31, 180, 37, 174, 16, 116, 183, 173, 94, 52, 121, 182, 19, 79, 165, 88, 118, 155, 153, 185, 158, 70, 20, 73, 144, 194, 76, 35, 23, 83, 127, 47, 162, 186, 120, 166, 135, 86, 133, 192, 25, 188]\n"
          ],
          "name": "stdout"
        }
      ]
    },
    {
      "cell_type": "code",
      "metadata": {
        "id": "SI1ho6BcmAJL"
      },
      "source": [
        "# Excluindo ids sobrepostos\n",
        "valid_df.drop(valid_overlap_idxs, inplace=True)"
      ],
      "execution_count": 9,
      "outputs": []
    },
    {
      "cell_type": "markdown",
      "metadata": {
        "id": "lKqpjNSmk4kx"
      },
      "source": [
        "### Comparação de ID do paciente entre os conjuntos de treinamento e validação.\n",
        "\n",
        "- menos registros no conjunto de validação e problema de sobreposição resolvido."
      ]
    },
    {
      "cell_type": "code",
      "metadata": {
        "colab": {
          "base_uri": "https://localhost:8080/"
        },
        "id": "X-RbeOQDmARR",
        "outputId": "063f4e0b-698e-4857-b1a8-be284b6aa0f9"
      },
      "source": [
        "# Ids dos pacientes para o conjunto de validação\n",
        "ids_valid = valid_df.PatientId.values\n",
        "# Create a \"set\" datastructure of the validation set id's to identify unique id's\n",
        "ids_valid_set = set(ids_valid)\n",
        "print(f'Há  {len(ids_valid_set)} Ids únicos de pacientes no conjunto de validação.')"
      ],
      "execution_count": 10,
      "outputs": [
        {
          "output_type": "stream",
          "text": [
            "Há  2 Ids únicos de pacientes no conjunto de validação.\n"
          ],
          "name": "stdout"
        }
      ]
    },
    {
      "cell_type": "code",
      "metadata": {
        "colab": {
          "base_uri": "https://localhost:8080/"
        },
        "id": "IiPK0_-7k71W",
        "outputId": "06391c68-1784-4cfe-d296-83dcc8afcb56"
      },
      "source": [
        "# Idnetificando conjunto sobreposto atraves de interseção de conjuntos\n",
        "patient_overlap = list(ids_train_set.intersection(ids_valid_set))\n",
        "n_overlap = len(patient_overlap)\n",
        "print(f'Há {n_overlap} Ids únicos de pacientes no conjunto de validação.')"
      ],
      "execution_count": 11,
      "outputs": [
        {
          "output_type": "stream",
          "text": [
            "Há 0 Ids únicos de pacientes no conjunto de validação.\n"
          ],
          "name": "stdout"
        }
      ]
    }
  ]
}