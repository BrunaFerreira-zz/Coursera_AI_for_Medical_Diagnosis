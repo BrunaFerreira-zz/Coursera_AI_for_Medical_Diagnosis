{
  "nbformat": 4,
  "nbformat_minor": 0,
  "metadata": {
    "colab": {
      "name": "Lab1_Counting_Labels_loss_function.ipynb",
      "provenance": [],
      "mount_file_id": "1a7llLYhNgSeDjeXREDRVYfW_Qrf3HzYt",
      "authorship_tag": "ABX9TyNL1t4rDtkzJYNfVtY7k3jE",
      "include_colab_link": true
    },
    "kernelspec": {
      "name": "python3",
      "display_name": "Python 3"
    }
  },
  "cells": [
    {
      "cell_type": "markdown",
      "metadata": {
        "id": "view-in-github",
        "colab_type": "text"
      },
      "source": [
        "<a href=\"https://colab.research.google.com/github/BrunaFerreira/Coursera_AI_for_Medical_Diagnosis/blob/master/Lab1_Counting_Labels_loss_function.ipynb\" target=\"_parent\"><img src=\"https://colab.research.google.com/assets/colab-badge.svg\" alt=\"Open In Colab\"/></a>"
      ]
    },
    {
      "cell_type": "markdown",
      "metadata": {
        "id": "uEpHHVo9LPXy"
      },
      "source": [
        "# Contando rótulos (labels) e definindo função de custo (loss function)\r\n",
        "* AI for Medicine Course 1 Week 1 lecture exercises\r\n",
        "* AI4M_C1_W1_lecture_ex_02\r\n"
      ]
    },
    {
      "cell_type": "code",
      "metadata": {
        "id": "tSEbFDc52uQp"
      },
      "source": [
        "# Import pacotes necessários\n",
        "import pandas as pd\n",
        "import numpy as np\n",
        "import matplotlib.pyplot as plt\n",
        "%matplotlib inline\n",
        "import seaborn as sns"
      ],
      "execution_count": 1,
      "outputs": []
    },
    {
      "cell_type": "code",
      "metadata": {
        "id": "v4FZRNm-h2gM"
      },
      "source": [
        "# Le arquivo .csv lendo dados de treinamento\r\n",
        "train_df = pd.read_csv(\"/content/drive/MyDrive/0_Cursos/1. Coursera/AI Medicine /Code/data/train-small.csv\")"
      ],
      "execution_count": 2,
      "outputs": []
    },
    {
      "cell_type": "markdown",
      "metadata": {
        "id": "979hdHdY2zOv"
      },
      "source": [
        "## Contando Rótulos (Labels)\n",
        "Uma maneira de evitar que desbalanceamento das classes afete a função de perda é ponderar as perdas de forma diferente. Para escolher os pesos, primeiro você precisa calcular as frequências das classes.\n",
        "\n",
        "* Contagem de cada rótulo (label);"
      ]
    },
    {
      "cell_type": "code",
      "metadata": {
        "id": "gG1ZpSXNhnoK"
      },
      "source": [
        "# Contando o número de instancias para cada classe\r\n",
        "class_counts = train_df.sum().drop(['Image','PatientId'])"
      ],
      "execution_count": 3,
      "outputs": []
    },
    {
      "cell_type": "markdown",
      "metadata": {
        "id": "KsJb0lKVhhT9"
      },
      "source": [
        "* Frequência em cada classe:"
      ]
    },
    {
      "cell_type": "code",
      "metadata": {
        "colab": {
          "base_uri": "https://localhost:8080/"
        },
        "id": "9bq6Q6PvjWEQ",
        "outputId": "3b7bd55d-5062-4234-b029-fbcb76525557"
      },
      "source": [
        "for column in class_counts.keys():\r\n",
        "    print(f\"A classe {column} contém {train_df[column].sum()} amostras\")"
      ],
      "execution_count": 4,
      "outputs": [
        {
          "output_type": "stream",
          "text": [
            "A classe Atelectasis contém 106 amostras\n",
            "A classe Cardiomegaly contém 20 amostras\n",
            "A classe Consolidation contém 33 amostras\n",
            "A classe Edema contém 16 amostras\n",
            "A classe Effusion contém 128 amostras\n",
            "A classe Emphysema contém 13 amostras\n",
            "A classe Fibrosis contém 14 amostras\n",
            "A classe Hernia contém 2 amostras\n",
            "A classe Infiltration contém 175 amostras\n",
            "A classe Mass contém 45 amostras\n",
            "A classe Nodule contém 54 amostras\n",
            "A classe Pleural_Thickening contém 21 amostras\n",
            "A classe Pneumonia contém 10 amostras\n",
            "A classe Pneumothorax contém 38 amostras\n"
          ],
          "name": "stdout"
        }
      ]
    },
    {
      "cell_type": "code",
      "metadata": {
        "colab": {
          "base_uri": "https://localhost:8080/",
          "height": 356
        },
        "id": "VaNJcNvio0HD",
        "outputId": "ceacdf1b-c0d4-48e5-c4b7-792bcca6c369"
      },
      "source": [
        "# Grafico das distribuições\r\n",
        "sns.barplot(class_counts.values, class_counts.index, color = 'b')\r\n",
        "plt.title('Distribuição de Classes para dados de treino', fontsize=15)\r\n",
        "plt.xlabel('Número de Pacientes', fontsize=15)\r\n",
        "plt.ylabel('Doenças', fontsize=15)\r\n",
        "plt.show()"
      ],
      "execution_count": 5,
      "outputs": [
        {
          "output_type": "stream",
          "text": [
            "/usr/local/lib/python3.7/dist-packages/seaborn/_decorators.py:43: FutureWarning: Pass the following variables as keyword args: x, y. From version 0.12, the only valid positional argument will be `data`, and passing other arguments without an explicit keyword will result in an error or misinterpretation.\n",
            "  FutureWarning\n"
          ],
          "name": "stderr"
        },
        {
          "output_type": "display_data",
          "data": {
            "image/png": "[encoded data removed]",
            "text/plain": [
              "<Figure size 432x288 with 1 Axes>"
            ]
          },
          "metadata": {
            "tags": [],
            "needs_background": "light"
          }
        }
      ]
    },
    {
      "cell_type": "markdown",
      "metadata": {
        "id": "5ygPrgISsdzf"
      },
      "source": [
        "# Função de perda ponderada - Weighted Loss function"
      ]
    },
    {
      "cell_type": "markdown",
      "metadata": {
        "id": "HWsduX66ssNB"
      },
      "source": [
        "Primeiro definirá um conjunto hipotético de rótulos verdadeiros e, um conjunto de previsões."
      ]
    },
    {
      "cell_type": "code",
      "metadata": {
        "colab": {
          "base_uri": "https://localhost:8080/"
        },
        "id": "HCXeuwri3CMq",
        "outputId": "b2664ebe-1544-469a-9562-d85abd25dc33"
      },
      "source": [
        "# Matriz com 4 valores de rótulo binários, 3 positivos e 1 negativo\n",
        "y_true = np.array(\n",
        "        [[1],\n",
        "         [1],\n",
        "         [1],\n",
        "         [0]])\n",
        "print(f\"y_true: \\n{y_true}\")"
      ],
      "execution_count": 6,
      "outputs": [
        {
          "output_type": "stream",
          "text": [
            "y_true: \n",
            "[[1]\n",
            " [1]\n",
            " [1]\n",
            " [0]]\n"
          ],
          "name": "stdout"
        }
      ]
    },
    {
      "cell_type": "markdown",
      "metadata": {
        "id": "YdODbhjptQ21"
      },
      "source": [
        "### Dois modelos\r\n",
        "- O Modelo 1 sempre produz um 0,9 para qualquer exemplo fornecido.\r\n",
        "- O Modelo 2 sempre produz um 0,1 para qualquer exemplo que for fornecido."
      ]
    },
    {
      "cell_type": "markdown",
      "metadata": {
        "id": "Q23DRGBhbY8s"
      },
      "source": [
        "O arquivo contém:\r\n",
        "* os nomes das radiografias de tórax (coluna \"Image\"\r\n",
        "* colunas preenchidas com uns e zeros, que  identificam quais diagnósticos foram dados com base em cada radiografia."
      ]
    },
    {
      "cell_type": "code",
      "metadata": {
        "colab": {
          "base_uri": "https://localhost:8080/"
        },
        "id": "LpK1kGC4taKn",
        "outputId": "7fbdb9ab-f9c7-4277-e721-fa7ef6d34b2d"
      },
      "source": [
        "# Faça previsões de modelo que são sempre 0,9 para todos os exemplos\r\n",
        "y_pred_1 = 0.9 * np.ones(y_true.shape)\r\n",
        "print(f\"y_pred_1: \\n{y_pred_1}\")\r\n",
        "print()\r\n",
        "y_pred_2 = 0.1 * np.ones(y_true.shape)\r\n",
        "print(f\"y_pred_2: \\n{y_pred_2}\")"
      ],
      "execution_count": 7,
      "outputs": [
        {
          "output_type": "stream",
          "text": [
            "y_pred_1: \n",
            "[[0.9]\n",
            " [0.9]\n",
            " [0.9]\n",
            " [0.9]]\n",
            "\n",
            "y_pred_2: \n",
            "[[0.1]\n",
            " [0.1]\n",
            " [0.1]\n",
            " [0.1]]\n"
          ],
          "name": "stdout"
        }
      ]
    },
    {
      "cell_type": "markdown",
      "metadata": {
        "id": "AhoGz2rhwLNe"
      },
      "source": [
        "### Problemas com a função de perda regular\r\n",
        "O objetivo do aprendizado aqui é perceber que, com uma função de perda regular (não uma perda ponderada), o modelo que sempre produz 0,9 tem uma perda menor (desempenho melhor) do que o modelo 2.\r\n",
        "\r\n",
        "Isso ocorre porque:\r\n",
        "-  há desbalanceamento de classes, em que 3 dos 4 rótulos são 1.\r\n",
        "- Se os dados estivessem perfeitamente balanceados (dois rótulos eram 1 e dois rótulos eram 0), o modelo 1 e o modelo 2 teriam a mesma perda. Cada um obteria dois exemplos corretos e dois exemplos incorretos.\r\n",
        "- Função de perda regular implica que o modelo 1 é melhor do que o modelo 2."
      ]
    },
    {
      "cell_type": "markdown",
      "metadata": {
        "id": "7OzX9BRowt0P"
      },
      "source": [
        "### Observe as deficiências de uma perda não ponderada regular\r\n",
        "\r\n",
        "Lembrando que o modelo 1 sempre prevê 0,9 e o modelo 2 sempre prevê 0,1, veja a função de perda regular (não ponderada) para cada modelo."
      ]
    },
    {
      "cell_type": "code",
      "metadata": {
        "colab": {
          "base_uri": "https://localhost:8080/"
        },
        "id": "TMXzAK6-w60G",
        "outputId": "9edb4cc5-bd0e-4e74-ea40-d3c84e5997ea"
      },
      "source": [
        "loss_reg_1 = -1 * np.sum(y_true * np.log(y_pred_1)) + \\\r\n",
        "                -1 * np.sum((1 - y_true) * np.log(1 - y_pred_1))\r\n",
        "print(f\"loss_reg_1: {loss_reg_1:.4f}\")"
      ],
      "execution_count": 8,
      "outputs": [
        {
          "output_type": "stream",
          "text": [
            "loss_reg_1: 2.6187\n"
          ],
          "name": "stdout"
        }
      ]
    },
    {
      "cell_type": "code",
      "metadata": {
        "colab": {
          "base_uri": "https://localhost:8080/"
        },
        "id": "43L2hRNkw_17",
        "outputId": "f5e542b7-b248-41f4-e29b-82e42a3149bf"
      },
      "source": [
        "loss_reg_2 = -1 * np.sum(y_true * np.log(y_pred_2)) + \\\r\n",
        "                -1 * np.sum((1 - y_true) * np.log(1 - y_pred_2))\r\n",
        "print(f\"loss_reg_2: {loss_reg_2:.4f}\")"
      ],
      "execution_count": 9,
      "outputs": [
        {
          "output_type": "stream",
          "text": [
            "loss_reg_2: 7.0131\n"
          ],
          "name": "stdout"
        }
      ]
    },
    {
      "cell_type": "code",
      "metadata": {
        "colab": {
          "base_uri": "https://localhost:8080/"
        },
        "id": "_ec2Vp7kxCmz",
        "outputId": "d4a81f40-fb40-4355-8f4e-95a0395cdcb6"
      },
      "source": [
        "print(f\"Quando o modelo 1 sempre prevê 0.9, a perda regular é {loss_reg_1:.4f}\")\r\n",
        "print(f\"Quando o modelo 2 sempre prevê 0.1, a perda regular é {loss_reg_2:.4f}\")"
      ],
      "execution_count": 10,
      "outputs": [
        {
          "output_type": "stream",
          "text": [
            "Quando o modelo 1 sempre prevê 0.9, a perda regular é 2.6187\n",
            "Quando o modelo 2 sempre prevê 0.1, a perda regular é 7.0131\n"
          ],
          "name": "stdout"
        }
      ]
    },
    {
      "cell_type": "markdown",
      "metadata": {
        "id": "B36veF2pxZ_g"
      },
      "source": [
        "A função de perda dá uma perda maior quando as previsões são sempre 0.1, porque os dados são desbalanceados:\r\n",
        "- três rótulos de `1`\r\n",
        "- um rótulo de` 0`.\r\n",
        "\r\n",
        "Dado um desbalanceamento de classe com rótulos mais positivos, a função de perda regular implica que o modelo com a previsão mais alta de 0,9 tem um desempenho melhor do que o modelo com a previsão mais baixa de 0,1"
      ]
    },
    {
      "cell_type": "markdown",
      "metadata": {
        "id": "8WrU3otk17ga"
      },
      "source": [
        "### Como uma perda ponderada trata os dois modelos da mesma maneira\r\n",
        "Com uma função de perda ponderada,será obtida a mesma perda ponderada quando as previsões forem todas 0,9 ou quando forem todas 0,1.\r\n",
        "- Uma previsão de 0,9 está a 0,1 de distância do rótulo positivo de 1.\r\n",
        "- Uma previsão de 0,1 está a 0,1 de distância do rótulo negativo de 0\r\n",
        "- Portanto, os modelos 1 e 2 são \"simétricos\" ao longo do ponto médio de 0,5, em uma reta numérica entre 0 e 1."
      ]
    },
    {
      "cell_type": "markdown",
      "metadata": {
        "id": "yTHLlh_S17ob"
      },
      "source": [
        "### Equação de perda ponderada\r\n",
        "Calcule a perda para o zero-ésimo rótulo (coluna no índice 0).\r\n",
        "\r\n",
        "- A perda é composta por dois termos:\r\n",
        "\r\n",
        "    - $loss_{pos}$: perda em que o rótulo real é positivo (os exemplos positivos).\r\n",
        "    - $loss_{neg}$: perda em que o rótulo real é negativo (os exemplos negativos).\r\n",
        "\r\n",
        "$$ loss^{(i)} = loss_{pos}^{(i)} + los_{neg}^{(i)} $$\r\n",
        "\r\n",
        "$$loss_{pos}^{(i)} = -1 \\times weight_{pos}^{(i)} \\times y^{(i)} \\times log(\\hat{y}^{(i)})$$\r\n",
        "\r\n",
        "$$loss_{neg}^{(i)} = -1 \\times weight_{neg}^{(i)} \\times (1- y^{(i)}) \\times log(1 - \\hat{y}^{(i)})$$"
      ]
    },
    {
      "cell_type": "markdown",
      "metadata": {
        "id": "1AA9nBLx17v1"
      },
      "source": [
        "- Para obter o peso positivo, conte quantos rótulos NEGATIVOS estão presentes, dividido pelo número total de exemplos.\r\n",
        "\r\n",
        "Nesse caso, há um rótulo negativo e quatro exemplos no total.\r\n",
        "\r\n",
        "Da mesma forma, o peso negativo é a fração de rótulos positivos.\r\n",
        "\r\n",
        "Execute a próxima célula para definir os pesos positivos e negativos."
      ]
    },
    {
      "cell_type": "code",
      "metadata": {
        "id": "JijhUEtn4OMc",
        "colab": {
          "base_uri": "https://localhost:8080/"
        },
        "outputId": "4b3f44ad-50f0-4a2b-88f3-4aeeb43177dd"
      },
      "source": [
        "# calculate the positive weight as the fraction of negative labels\r\n",
        "w_p = 1/4\r\n",
        "\r\n",
        "# calculate the negative weight as the fraction of positive labels\r\n",
        "w_n = 3/4\r\n",
        "\r\n",
        "print(f\"positive weight w_p: {w_p}\")\r\n",
        "print(f\"negative weight w_n {w_n}\")"
      ],
      "execution_count": 11,
      "outputs": [
        {
          "output_type": "stream",
          "text": [
            "positive weight w_p: 0.25\n",
            "negative weight w_n 0.75\n"
          ],
          "name": "stdout"
        }
      ]
    },
    {
      "cell_type": "markdown",
      "metadata": {
        "id": "CKwltXcX4Th2"
      },
      "source": [
        "### Perda ponderada do modelo 1\r\n",
        "Execute as próximas duas células para calcular os dois termos de perda separadamente.\r\n",
        "\r\n",
        "Aqui, `loss_1_pos` e` loss_1_neg` são calculados usando as previsões `y_pred_1`."
      ]
    },
    {
      "cell_type": "code",
      "metadata": {
        "id": "SD9hqEW74Umf",
        "colab": {
          "base_uri": "https://localhost:8080/"
        },
        "outputId": "38f62ca1-f221-4b4a-9540-b3bd78f819f7"
      },
      "source": [
        "# Calculate and print out the first term in the loss function, which we are calling 'loss_pos'\r\n",
        "loss_1_pos = -1 * np.sum(w_p * y_true * np.log(y_pred_1 ))\r\n",
        "print(f\"loss_1_pos: {loss_1_pos:.4f}\")"
      ],
      "execution_count": 12,
      "outputs": [
        {
          "output_type": "stream",
          "text": [
            "loss_1_pos: 0.0790\n"
          ],
          "name": "stdout"
        }
      ]
    },
    {
      "cell_type": "code",
      "metadata": {
        "id": "I8rARCtY4U29",
        "colab": {
          "base_uri": "https://localhost:8080/"
        },
        "outputId": "f3e5fa9a-8a2e-4c37-c647-8149f4692355"
      },
      "source": [
        "# Calculate and print out the second term in the loss function, which we're calling 'loss_neg'\r\n",
        "loss_1_neg = -1 * np.sum(w_n * (1 - y_true) * np.log(1 - y_pred_1 ))\r\n",
        "print(f\"loss_1_neg: {loss_1_neg:.4f}\")"
      ],
      "execution_count": 13,
      "outputs": [
        {
          "output_type": "stream",
          "text": [
            "loss_1_neg: 1.7269\n"
          ],
          "name": "stdout"
        }
      ]
    },
    {
      "cell_type": "code",
      "metadata": {
        "id": "Ks2FI5hP4ZWa",
        "colab": {
          "base_uri": "https://localhost:8080/"
        },
        "outputId": "c83b008e-1b8d-497d-e08c-a7b1b890acf6"
      },
      "source": [
        "# Sum positive and negative losses to calculate total loss\r\n",
        "loss_1 = loss_1_pos + loss_1_neg\r\n",
        "print(f\"loss_1: {loss_1:.4f}\")"
      ],
      "execution_count": 14,
      "outputs": [
        {
          "output_type": "stream",
          "text": [
            "loss_1: 1.8060\n"
          ],
          "name": "stdout"
        }
      ]
    },
    {
      "cell_type": "markdown",
      "metadata": {
        "id": "vKrHfxtc4ePv"
      },
      "source": [
        "### Perda ponderada do modelo 2\r\n",
        "\r\n",
        "Agora faça os mesmos cálculos para quando as previsões forem de `y_pred_2 '. Calcule os dois termos da função de perda ponderada e some-os."
      ]
    },
    {
      "cell_type": "code",
      "metadata": {
        "id": "QOevCWfU4fUO",
        "colab": {
          "base_uri": "https://localhost:8080/"
        },
        "outputId": "ecde08b9-7905-47d6-86a9-31721cb49b0a"
      },
      "source": [
        "# Calculate and print out the first term in the loss function, which we are calling 'loss_pos'\r\n",
        "loss_2_pos = -1 * np.sum(w_p * y_true * np.log(y_pred_2))\r\n",
        "print(f\"loss_2_pos: {loss_2_pos:.4f}\")"
      ],
      "execution_count": 15,
      "outputs": [
        {
          "output_type": "stream",
          "text": [
            "loss_2_pos: 1.7269\n"
          ],
          "name": "stdout"
        }
      ]
    },
    {
      "cell_type": "code",
      "metadata": {
        "id": "xAkme_CI4fk9",
        "colab": {
          "base_uri": "https://localhost:8080/"
        },
        "outputId": "93d23c65-429e-4cd1-e575-b5e3e022750e"
      },
      "source": [
        "# Calculate and print out the second term in the loss function, which we're calling 'loss_neg'\r\n",
        "loss_2_neg = -1 * np.sum(w_n * (1 - y_true) * np.log(1 - y_pred_2))\r\n",
        "print(f\"loss_2_neg: {loss_2_neg:.4f}\")"
      ],
      "execution_count": 16,
      "outputs": [
        {
          "output_type": "stream",
          "text": [
            "loss_2_neg: 0.0790\n"
          ],
          "name": "stdout"
        }
      ]
    },
    {
      "cell_type": "code",
      "metadata": {
        "id": "qtiZFnsH4jjE",
        "colab": {
          "base_uri": "https://localhost:8080/"
        },
        "outputId": "9792dff5-bfea-4739-8c33-6f178c88db84"
      },
      "source": [
        "# Sum positive and negative losses to calculate total loss when the prediction is y_pred_2\r\n",
        "loss_2 = loss_2_pos + loss_2_neg\r\n",
        "print(f\"loss_2: {loss_2:.4f}\")"
      ],
      "execution_count": 17,
      "outputs": [
        {
          "output_type": "stream",
          "text": [
            "loss_2: 1.8060\n"
          ],
          "name": "stdout"
        }
      ]
    },
    {
      "cell_type": "markdown",
      "metadata": {
        "id": "jS1hFBTq50LE"
      },
      "source": [
        "### Compare a perda ponderada do modelo 1 e do modelo 2"
      ]
    },
    {
      "cell_type": "code",
      "metadata": {
        "id": "whRqPncK4jq3",
        "colab": {
          "base_uri": "https://localhost:8080/"
        },
        "outputId": "766440d3-9b1d-4506-bbfd-b74c5b1cda04"
      },
      "source": [
        "print(f\"When the model always predicts 0.9, the total loss is {loss_1:.4f}\")\r\n",
        "print(f\"When the model always predicts 0.1, the total loss is {loss_2:.4f}\")"
      ],
      "execution_count": 18,
      "outputs": [
        {
          "output_type": "stream",
          "text": [
            "When the model always predicts 0.9, the total loss is 1.8060\n",
            "When the model always predicts 0.1, the total loss is 1.8060\n"
          ],
          "name": "stdout"
        }
      ]
    },
    {
      "cell_type": "markdown",
      "metadata": {
        "id": "_8puboMB58ZW"
      },
      "source": [
        "### O que você percebe?\r\n",
        "Como você usou uma perda ponderada, a perda calculada é a mesma, quer o modelo sempre preveja 0,9 ou sempre preveja 0,1.\r\n",
        "\r\n",
        "Você também deve ter notado que, ao calcular cada termo da perda ponderada separadamente, há um pouco de simetria ao comparar os dois conjuntos de previsões."
      ]
    },
    {
      "cell_type": "code",
      "metadata": {
        "id": "9EWUI8454jy5",
        "colab": {
          "base_uri": "https://localhost:8080/"
        },
        "outputId": "ad517ea5-6dbe-4f13-c425-ef3bd5d2685f"
      },
      "source": [
        "print(f\"loss_1_pos: {loss_1_pos:.4f} \\t loss_1_neg: {loss_1_neg:.4f}\")\r\n",
        "print()\r\n",
        "print(f\"loss_2_pos: {loss_2_pos:.4f} \\t loss_2_neg: {loss_2_neg:.4f}\")"
      ],
      "execution_count": 19,
      "outputs": [
        {
          "output_type": "stream",
          "text": [
            "loss_1_pos: 0.0790 \t loss_1_neg: 1.7269\n",
            "\n",
            "loss_2_pos: 1.7269 \t loss_2_neg: 0.0790\n"
          ],
          "name": "stdout"
        }
      ]
    },
    {
      "cell_type": "markdown",
      "metadata": {
        "id": "kWU4cOmE6FH1"
      },
      "source": [
        "Mesmo que haja um desequilíbrio de classe, onde há 3 rótulos positivos, mas apenas um rótulo negativo, a perda ponderada é responsável por isso dando mais peso ao rótulo negativo do que ao positivo."
      ]
    },
    {
      "cell_type": "markdown",
      "metadata": {
        "id": "4fH0f1Yj6KcP"
      },
      "source": [
        "### Perda ponderada para mais de uma classe\r\n",
        "\r\n",
        "Na tarefa desta semana, você calculará a perda ponderada de várias classes (quando houver mais de uma classe de doença que seu modelo está aprendendo a prever). Aqui, você pode praticar o trabalho com matrizes numpy 2D, o que o ajudará a implementar a perda ponderada de várias classes na tarefa avaliada.\r\n",
        "\r\n",
        "Você trabalhará com um conjunto de dados que possui duas classes de doenças (duas colunas)"
      ]
    },
    {
      "cell_type": "code",
      "metadata": {
        "id": "eT_2u1X26FyH",
        "colab": {
          "base_uri": "https://localhost:8080/"
        },
        "outputId": "0850329d-1476-46f1-976a-7616d7b35d88"
      },
      "source": [
        "# View the labels (true values) that you will practice with\r\n",
        "y_true = np.array(\r\n",
        "        [[1,0],\r\n",
        "         [1,0],\r\n",
        "         [1,0],\r\n",
        "         [1,0],\r\n",
        "         [0,1]\r\n",
        "        ])\r\n",
        "y_true"
      ],
      "execution_count": 20,
      "outputs": [
        {
          "output_type": "execute_result",
          "data": {
            "text/plain": [
              "array([[1, 0],\n",
              "       [1, 0],\n",
              "       [1, 0],\n",
              "       [1, 0],\n",
              "       [0, 1]])"
            ]
          },
          "metadata": {
            "tags": []
          },
          "execution_count": 20
        }
      ]
    },
    {
      "cell_type": "markdown",
      "metadata": {
        "id": "_ZK6ugPK6SMA"
      },
      "source": [
        "### Escolhendo eixo = 0 ou eixo = 1\r\n",
        "Você usará `numpy.sum` para contar o número de vezes que a coluna` 0` tem o valor 0.\r\n",
        "Primeiro, observe a diferença quando você define ` axis` = 0 versus ` axis` = 1"
      ]
    },
    {
      "cell_type": "code",
      "metadata": {
        "id": "XEwr4eJZ6TCb",
        "colab": {
          "base_uri": "https://localhost:8080/"
        },
        "outputId": "409bae36-567c-4b6d-d168-46d3f53cbe1c"
      },
      "source": [
        "# See what happens when you set axis=0\r\n",
        "print(f\"using axis = 0 {np.sum(y_true,axis=0)}\")\r\n",
        "\r\n",
        "# Compare this to what happens when you set axis=1\r\n",
        "print(f\"using axis = 1 {np.sum(y_true,axis=1)}\")"
      ],
      "execution_count": 21,
      "outputs": [
        {
          "output_type": "stream",
          "text": [
            "using axis = 0 [4 1]\n",
            "using axis = 1 [1 1 1 1 1]\n"
          ],
          "name": "stdout"
        }
      ]
    },
    {
      "cell_type": "markdown",
      "metadata": {
        "id": "NIpXuVCR6ZUp"
      },
      "source": [
        "Observe que se você escolher ` axis = 0`, a soma é obtida para cada uma das duas colunas. Isso é o que você deseja fazer neste caso. Se você definir `axis = 1`, a soma é obtida para cada linha."
      ]
    },
    {
      "cell_type": "markdown",
      "metadata": {
        "id": "BYv5Ollz6gQT"
      },
      "source": [
        "### Calcule os pesos\r\n",
        "Anteriormente, você inspecionava visualmente os dados para calcular a fração de rótulos negativos e positivos. Aqui, você pode fazer isso programaticamente."
      ]
    },
    {
      "cell_type": "code",
      "metadata": {
        "id": "aGNFdhNv6g6w",
        "colab": {
          "base_uri": "https://localhost:8080/"
        },
        "outputId": "fc6c40d6-f4c8-4425-ccd4-de64aa2f44b1"
      },
      "source": [
        "# set the positive weights as the fraction of negative labels (0) for each class (each column)\r\n",
        "w_p = np.sum(y_true == 0,axis=0) / y_true.shape[0]\r\n",
        "w_p"
      ],
      "execution_count": 22,
      "outputs": [
        {
          "output_type": "execute_result",
          "data": {
            "text/plain": [
              "array([0.2, 0.8])"
            ]
          },
          "metadata": {
            "tags": []
          },
          "execution_count": 22
        }
      ]
    },
    {
      "cell_type": "code",
      "metadata": {
        "id": "ZHqIzVZd6hB3",
        "colab": {
          "base_uri": "https://localhost:8080/"
        },
        "outputId": "3c21c979-8f90-453e-bbac-667fe284e0da"
      },
      "source": [
        "# set the negative weights as the fraction of positive labels (1) for each class\r\n",
        "w_n = np.sum(y_true == 1, axis=0) / y_true.shape[0]\r\n",
        "w_n"
      ],
      "execution_count": 23,
      "outputs": [
        {
          "output_type": "execute_result",
          "data": {
            "text/plain": [
              "array([0.8, 0.2])"
            ]
          },
          "metadata": {
            "tags": []
          },
          "execution_count": 23
        }
      ]
    },
    {
      "cell_type": "markdown",
      "metadata": {
        "id": "V2Ytgv2i6pws"
      },
      "source": [
        "Na tarefa, você treinará um modelo para tentar fazer previsões úteis. Para tornar este exemplo mais fácil de seguir, você fingirá que seu modelo sempre prevê o mesmo valor para todos os exemplos."
      ]
    },
    {
      "cell_type": "code",
      "metadata": {
        "id": "LxVo7kEN6hIq",
        "colab": {
          "base_uri": "https://localhost:8080/"
        },
        "outputId": "6c4a747e-33de-4a87-94c3-e835614e26be"
      },
      "source": [
        "# Set model predictions where all predictions are the same\r\n",
        "y_pred = np.ones(y_true.shape)\r\n",
        "y_pred[:,0] = 0.3 * y_pred[:,0]\r\n",
        "y_pred[:,1] = 0.7 * y_pred[:,1]\r\n",
        "y_pred"
      ],
      "execution_count": 24,
      "outputs": [
        {
          "output_type": "execute_result",
          "data": {
            "text/plain": [
              "array([[0.3, 0.7],\n",
              "       [0.3, 0.7],\n",
              "       [0.3, 0.7],\n",
              "       [0.3, 0.7],\n",
              "       [0.3, 0.7]])"
            ]
          },
          "metadata": {
            "tags": []
          },
          "execution_count": 24
        }
      ]
    },
    {
      "cell_type": "markdown",
      "metadata": {
        "id": "iYgrj-Ds7BFx"
      },
      "source": [
        "omo antes, calcule os dois termos que constituem a função de perda. Observe que você está trabalhando com mais de uma classe (representada por colunas). Nesse caso, existem duas classes.\r\n",
        "\r\n",
        "Comece calculando a perda para a classe `0`.\r\n",
        "\r\n",
        "\r\n",
        "$$ loss^{(i)} = loss_{pos}^{(i)} + los_{neg}^{(i)} $$\r\n",
        "\r\n",
        "$$loss_{pos}^{(i)} = -1 \\times weight_{pos}^{(i)} \\times y^{(i)} \\times log(\\hat{y}^{(i)})$$\r\n",
        "\r\n",
        "$$loss_{neg}^{(i)} = -1 \\times weight_{neg}^{(i)} \\times (1- y^{(i)}) \\times log(1 - \\hat{y}^{(i)})$$"
      ]
    },
    {
      "cell_type": "markdown",
      "metadata": {
        "id": "so9bsCvL7KvR"
      },
      "source": [
        "Visualize a coluna zero para os pesos, valores verdadeiros e previsões que você usará para calcular a perda das previsões positivas."
      ]
    },
    {
      "cell_type": "code",
      "metadata": {
        "id": "-fNSnc_k6hNa",
        "colab": {
          "base_uri": "https://localhost:8080/"
        },
        "outputId": "2b65ccc9-44ad-4ff2-bdee-d64b7e86a2fe"
      },
      "source": [
        "# Print and view column zero of the weight\r\n",
        "print(f\"w_p[0]: {w_p[0]}\")\r\n",
        "print(f\"y_true[:,0]: {y_true[:,0]}\")\r\n",
        "print(f\"y_pred[:,0]: {y_pred[:,0]}\")"
      ],
      "execution_count": 25,
      "outputs": [
        {
          "output_type": "stream",
          "text": [
            "w_p[0]: 0.2\n",
            "y_true[:,0]: [1 1 1 1 0]\n",
            "y_pred[:,0]: [0.3 0.3 0.3 0.3 0.3]\n"
          ],
          "name": "stdout"
        }
      ]
    },
    {
      "cell_type": "code",
      "metadata": {
        "id": "ye7BpZg46hZG",
        "colab": {
          "base_uri": "https://localhost:8080/"
        },
        "outputId": "4cc34ce4-fb65-469e-d750-1da294ed1e19"
      },
      "source": [
        "# calculate the loss from the positive predictions, for class 0\r\n",
        "loss_0_pos = -1 * np.sum(w_p[0] * \r\n",
        "                y_true[:, 0] * \r\n",
        "                np.log(y_pred[:, 0])\r\n",
        "              )\r\n",
        "print(f\"loss_0_pos: {loss_0_pos:.4f}\")"
      ],
      "execution_count": 26,
      "outputs": [
        {
          "output_type": "stream",
          "text": [
            "loss_0_pos: 0.9632\n"
          ],
          "name": "stdout"
        }
      ]
    },
    {
      "cell_type": "markdown",
      "metadata": {
        "id": "OMpTaYeB7UOm"
      },
      "source": [
        "Visualize a coluna zero para os pesos, valores verdadeiros e previsões que você usará para calcular a perda das previsões negativas."
      ]
    },
    {
      "cell_type": "code",
      "metadata": {
        "id": "S6ug05iO6aBP",
        "colab": {
          "base_uri": "https://localhost:8080/"
        },
        "outputId": "8541cd98-55fa-4fae-f4bd-48460974e22c"
      },
      "source": [
        "# Print and view column zero of the weight\r\n",
        "print(f\"w_n[0]: {w_n[0]}\")\r\n",
        "print(f\"y_true[:,0]: {y_true[:,0]}\")\r\n",
        "print(f\"y_pred[:,0]: {y_pred[:,0]}\")"
      ],
      "execution_count": 27,
      "outputs": [
        {
          "output_type": "stream",
          "text": [
            "w_n[0]: 0.8\n",
            "y_true[:,0]: [1 1 1 1 0]\n",
            "y_pred[:,0]: [0.3 0.3 0.3 0.3 0.3]\n"
          ],
          "name": "stdout"
        }
      ]
    },
    {
      "cell_type": "code",
      "metadata": {
        "id": "KIQuEj_97YFR",
        "colab": {
          "base_uri": "https://localhost:8080/"
        },
        "outputId": "beaeffb1-d6ca-46f3-93b4-4620ea41e1e9"
      },
      "source": [
        "# Calculate the loss from the negative predictions, for class 0\r\n",
        "loss_0_neg = -1 * np.sum( \r\n",
        "                w_n[0] * \r\n",
        "                (1 - y_true[:, 0]) * \r\n",
        "                np.log(1 - y_pred[:, 0])\r\n",
        "              )\r\n",
        "print(f\"loss_0_neg: {loss_0_neg:.4f}\")"
      ],
      "execution_count": 28,
      "outputs": [
        {
          "output_type": "stream",
          "text": [
            "loss_0_neg: 0.2853\n"
          ],
          "name": "stdout"
        }
      ]
    },
    {
      "cell_type": "code",
      "metadata": {
        "id": "T1WrUv9m7YUV",
        "colab": {
          "base_uri": "https://localhost:8080/"
        },
        "outputId": "b08a3dd0-6707-463e-e40d-0f185f11d26d"
      },
      "source": [
        "# add the two loss terms to get the total loss for class 0\r\n",
        "loss_0 = loss_0_neg + loss_0_pos\r\n",
        "print(f\"loss_0: {loss_0:.4f}\")"
      ],
      "execution_count": 29,
      "outputs": [
        {
          "output_type": "stream",
          "text": [
            "loss_0: 1.2485\n"
          ],
          "name": "stdout"
        }
      ]
    },
    {
      "cell_type": "markdown",
      "metadata": {
        "id": "ON66nGLN7gQh"
      },
      "source": [
        "Agora você está familiarizado com o corte de matriz que você usaria quando houver várias classes de doenças armazenadas em uma matriz bidimensional.\r\n",
        "\r\n",
        "#### Agora é sua vez!\r\n",
        "* Você pode calcular a perda para a classe (coluna) `1`?"
      ]
    },
    {
      "cell_type": "code",
      "metadata": {
        "id": "kMbgCcdl7YiL",
        "colab": {
          "base_uri": "https://localhost:8080/"
        },
        "outputId": "8932cdc4-add8-4eac-a464-973b91e5df1f"
      },
      "source": [
        "# calculate the loss from the positive predictions, for class 1\r\n",
        "loss_1_pos = -1 * np.sum(w_p[1] * \r\n",
        "                y_true[:, 1] * \r\n",
        "                np.log(y_pred[:, 1])\r\n",
        "              )\r\n",
        "print(f\"loss_1_pos: {loss_1_pos:.4f}\")"
      ],
      "execution_count": 30,
      "outputs": [
        {
          "output_type": "stream",
          "text": [
            "loss_1_pos: 0.2853\n"
          ],
          "name": "stdout"
        }
      ]
    },
    {
      "cell_type": "code",
      "metadata": {
        "id": "IF-THR-D7kPC",
        "colab": {
          "base_uri": "https://localhost:8080/"
        },
        "outputId": "a288e606-dbde-466a-dafd-93b9530a6746"
      },
      "source": [
        "# Calculate the loss from the negative predictions, for class 1\r\n",
        "loss_1_neg = -1 * np.sum( \r\n",
        "                w_n[1] * \r\n",
        "                (1 - y_true[:, 1]) * \r\n",
        "                np.log(1 - y_pred[:, 1])\r\n",
        "              )\r\n",
        "print(f\"loss_1_neg: {loss_1_neg:.4f}\")"
      ],
      "execution_count": 31,
      "outputs": [
        {
          "output_type": "stream",
          "text": [
            "loss_1_neg: 0.9632\n"
          ],
          "name": "stdout"
        }
      ]
    },
    {
      "cell_type": "code",
      "metadata": {
        "id": "tQZGKKsO7kb4"
      },
      "source": [
        "# add the two loss terms to get the total loss for class 0\r\n",
        "loss_1 = loss_1_pos+loss_1_neg"
      ],
      "execution_count": 32,
      "outputs": []
    },
    {
      "cell_type": "code",
      "metadata": {
        "colab": {
          "base_uri": "https://localhost:8080/"
        },
        "id": "-k7h5M5jUfTF",
        "outputId": "ec6d69ee-9119-4c36-9aef-450d4fa9b25c"
      },
      "source": [
        "loss_1"
      ],
      "execution_count": 33,
      "outputs": [
        {
          "output_type": "execute_result",
          "data": {
            "text/plain": [
              "1.2485181986117349"
            ]
          },
          "metadata": {
            "tags": []
          },
          "execution_count": 33
        }
      ]
    },
    {
      "cell_type": "markdown",
      "metadata": {
        "id": "fej0UUWr7uYM"
      },
      "source": [
        "### Observação\r\n",
        "Os dados para as duas classes (duas colunas) assim como as previsões foram escolhidos de forma que você acabe obtendo a mesma perda ponderada para as duas categorias.\r\n",
        "  - Em geral, você espera calcular diferentes valores de perda ponderada para cada categoria de doença, pois as previsões e dados do modelo variam de uma categoria para outra."
      ]
    },
    {
      "cell_type": "markdown",
      "metadata": {
        "id": "MU5_C7XD70cd"
      },
      "source": [
        "Se desejar ajuda, clique na célula verde \"Solução\" abaixo para revelar a solução."
      ]
    },
    {
      "cell_type": "markdown",
      "metadata": {
        "id": "IWVVp5JZ74om"
      },
      "source": [
        "<details>    \r\n",
        "<summary>\r\n",
        "    <font size=\"3\" color=\"darkgreen\"><b>Solution</b></font>\r\n",
        "</summary>\r\n",
        "<p>\r\n",
        "<code>\r\n",
        "-- # calculate the loss from the positive predictions, for class 1\r\n",
        "loss_1_pos = -1 * np.sum(w_p[1] * \r\n",
        "                y_true[:, 1] * \r\n",
        "                np.log(y_pred[:, 1])\r\n",
        "              )\r\n",
        "print(f\"loss_1_pos: {loss_1_pos:.4f}\")\r\n",
        "    \r\n",
        "-- # Calculate the loss from the negative predictions, for class 1\r\n",
        "loss_1_neg = -1 * np.sum( \r\n",
        "                w_n[1] * \r\n",
        "                (1 - y_true[:, 1]) * \r\n",
        "                np.log(1 - y_pred[:, 1])\r\n",
        "              )\r\n",
        "print(f\"loss_1_neg: {loss_1_neg:.4f}\")\r\n",
        "\r\n",
        "-- # add the two loss terms to get the total loss for class 1\r\n",
        "loss_1 = loss_1_neg + loss_1_pos\r\n",
        "print(f\"loss_1: {loss_1:.4f}\")\r\n",
        "    </code>\r\n",
        "</p>\r\n"
      ]
    }
  ]
}